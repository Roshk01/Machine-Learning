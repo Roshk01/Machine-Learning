{
 "cells": [
  {
   "cell_type": "code",
   "execution_count": 2,
   "id": "bc803474",
   "metadata": {},
   "outputs": [],
   "source": [
    "import numpy as np \n",
    "import matplotlib.pyplot as plt"
   ]
  },
  {
   "cell_type": "code",
   "execution_count": 3,
   "id": "b496aa42",
   "metadata": {},
   "outputs": [],
   "source": [
    "dataset = [32, 45, 28, 36, 53, 21, 17, 70, 65, 80, 68, 90, 75, 82, 5, 60, 55, 500]"
   ]
  },
  {
   "cell_type": "code",
   "execution_count": 4,
   "id": "ce7c78f7",
   "metadata": {},
   "outputs": [
    {
     "data": {
      "text/plain": [
       "[5, 17, 21, 28, 32, 36, 45, 53, 55, 60, 65, 68, 70, 75, 80, 82, 90, 500]"
      ]
     },
     "execution_count": 4,
     "metadata": {},
     "output_type": "execute_result"
    }
   ],
   "source": [
    "sorted(dataset)"
   ]
  },
  {
   "cell_type": "code",
   "execution_count": 5,
   "id": "ccf1743e",
   "metadata": {},
   "outputs": [],
   "source": [
    "quantile1,quantile3 = np.percentile(dataset,[25,75])"
   ]
  },
  {
   "cell_type": "code",
   "execution_count": 6,
   "id": "ee8c3533",
   "metadata": {},
   "outputs": [
    {
     "name": "stdout",
     "output_type": "stream",
     "text": [
      "33.0 73.75\n"
     ]
    }
   ],
   "source": [
    "print(quantile1,quantile3)"
   ]
  },
  {
   "cell_type": "code",
   "execution_count": 7,
   "id": "26e0ec6e",
   "metadata": {},
   "outputs": [],
   "source": [
    "iqr_value = quantile3 - quantile1"
   ]
  },
  {
   "cell_type": "code",
   "execution_count": 8,
   "id": "7b77c3b6",
   "metadata": {},
   "outputs": [
    {
     "data": {
      "text/plain": [
       "40.75"
      ]
     },
     "execution_count": 8,
     "metadata": {},
     "output_type": "execute_result"
    }
   ],
   "source": [
    "iqr_value"
   ]
  },
  {
   "cell_type": "raw",
   "id": "7479cd64",
   "metadata": {},
   "source": [
    "#for finding the range ok standard deviation we have to find the lower bound and the upper bound\n",
    "    for upperbound = quantile3 + 1.5 * iqr\n",
    "    for lowerbound = quantile1 - 1.5 * iqr"
   ]
  },
  {
   "cell_type": "code",
   "execution_count": 13,
   "id": "e8ec499d",
   "metadata": {},
   "outputs": [],
   "source": [
    "lower_bound = quantile1 - (1.5 *iqr_value)\n",
    "upper_bound = quantile3 + (1.5 *iqr_value)"
   ]
  },
  {
   "cell_type": "code",
   "execution_count": 14,
   "id": "a4437173",
   "metadata": {},
   "outputs": [
    {
     "name": "stdout",
     "output_type": "stream",
     "text": [
      "-28.125 134.875\n"
     ]
    }
   ],
   "source": [
    "print(lower_bound, upper_bound)"
   ]
  },
  {
   "cell_type": "markdown",
   "id": "f37ee410",
   "metadata": {},
   "source": [
    "-28.125  to 134.875 is the range of deviation if any data is out of this range it's marked as outliers"
   ]
  },
  {
   "cell_type": "code",
   "execution_count": null,
   "id": "e75f3873",
   "metadata": {},
   "outputs": [],
   "source": []
  }
 ],
 "metadata": {
  "kernelspec": {
   "display_name": "Python 3 (ipykernel)",
   "language": "python",
   "name": "python3"
  },
  "language_info": {
   "codemirror_mode": {
    "name": "ipython",
    "version": 3
   },
   "file_extension": ".py",
   "mimetype": "text/x-python",
   "name": "python",
   "nbconvert_exporter": "python",
   "pygments_lexer": "ipython3",
   "version": "3.10.9"
  }
 },
 "nbformat": 4,
 "nbformat_minor": 5
}
