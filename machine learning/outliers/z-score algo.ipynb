{
 "cells": [
  {
   "cell_type": "code",
   "execution_count": 115,
   "id": "eec7820d",
   "metadata": {},
   "outputs": [],
   "source": [
    "import numpy as np\n",
    "import matplotlib.pyplot as plt"
   ]
  },
  {
   "cell_type": "code",
   "execution_count": 169,
   "id": "5e5631c5",
   "metadata": {},
   "outputs": [],
   "source": [
    "dataset = [32, 45, 28, 36, 53, 21, 17, 70, 65, 80, 68, 90, 75, 82, 5, 60, 55, 500]"
   ]
  },
  {
   "cell_type": "code",
   "execution_count": 170,
   "id": "8b337135",
   "metadata": {},
   "outputs": [],
   "source": [
    "outliers = []\n",
    "def find_outliers(data):\n",
    "  threshold = 3\n",
    "  mean = np.mean(data)\n",
    "  std = np.std(data)\n",
    "  for i in data:\n",
    "    z_score = (i - mean)/std\n",
    "    if np.abs(z_score) > threshold:\n",
    "      outliers.append(i)\n",
    "  return outliers"
   ]
  },
  {
   "cell_type": "code",
   "execution_count": 171,
   "id": "f0672bc2",
   "metadata": {},
   "outputs": [],
   "source": [
    "outlier_set = find_outliers(dataset)"
   ]
  },
  {
   "cell_type": "code",
   "execution_count": 172,
   "id": "71a0c48d",
   "metadata": {},
   "outputs": [
    {
     "data": {
      "text/plain": [
       "[500]"
      ]
     },
     "execution_count": 172,
     "metadata": {},
     "output_type": "execute_result"
    }
   ],
   "source": [
    "outlier_set"
   ]
  },
  {
   "cell_type": "code",
   "execution_count": null,
   "id": "b9985bf8",
   "metadata": {},
   "outputs": [],
   "source": []
  },
  {
   "cell_type": "code",
   "execution_count": null,
   "id": "7dddf2dc",
   "metadata": {},
   "outputs": [],
   "source": []
  }
 ],
 "metadata": {
  "kernelspec": {
   "display_name": "Python 3 (ipykernel)",
   "language": "python",
   "name": "python3"
  },
  "language_info": {
   "codemirror_mode": {
    "name": "ipython",
    "version": 3
   },
   "file_extension": ".py",
   "mimetype": "text/x-python",
   "name": "python",
   "nbconvert_exporter": "python",
   "pygments_lexer": "ipython3",
   "version": "3.10.9"
  }
 },
 "nbformat": 4,
 "nbformat_minor": 5
}
