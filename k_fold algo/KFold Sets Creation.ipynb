{
 "cells": [
  {
   "cell_type": "code",
   "execution_count": 16,
   "id": "bea62e55",
   "metadata": {},
   "outputs": [],
   "source": [
    "import pandas as pd"
   ]
  },
  {
   "cell_type": "code",
   "execution_count": 3,
   "id": "d2b8d1e4",
   "metadata": {},
   "outputs": [],
   "source": [
    "from sklearn.datasets import load_digits"
   ]
  },
  {
   "cell_type": "code",
   "execution_count": 6,
   "id": "33ab67a0",
   "metadata": {},
   "outputs": [
    {
     "data": {
      "text/plain": [
       "['DESCR', 'data', 'feature_names', 'frame', 'images', 'target', 'target_names']"
      ]
     },
     "execution_count": 6,
     "metadata": {},
     "output_type": "execute_result"
    }
   ],
   "source": [
    "digitdata = load_digits()\n",
    "dir(digitdata)"
   ]
  },
  {
   "cell_type": "code",
   "execution_count": 17,
   "id": "393cea4d",
   "metadata": {},
   "outputs": [
    {
     "data": {
      "text/plain": [
       "1797"
      ]
     },
     "execution_count": 17,
     "metadata": {},
     "output_type": "execute_result"
    }
   ],
   "source": [
    "len(digitdata.target)"
   ]
  },
  {
   "cell_type": "code",
   "execution_count": 18,
   "id": "7bae898d",
   "metadata": {},
   "outputs": [],
   "source": [
    "import matplotlib.pyplot as plt"
   ]
  },
  {
   "cell_type": "code",
   "execution_count": 23,
   "id": "4b7e73ec",
   "metadata": {},
   "outputs": [
    {
     "data": {
      "text/plain": [
       "<matplotlib.image.AxesImage at 0x2c6058d3490>"
      ]
     },
     "execution_count": 23,
     "metadata": {},
     "output_type": "execute_result"
    },
    {
     "data": {
      "image/png": "[encoded data removed]",
      "text/plain": [
       "<Figure size 480x480 with 1 Axes>"
      ]
     },
     "metadata": {},
     "output_type": "display_data"
    }
   ],
   "source": [
    "plt.matshow(digitdata.images[110])"
   ]
  },
  {
   "cell_type": "code",
   "execution_count": 78,
   "id": "d208506c",
   "metadata": {},
   "outputs": [],
   "source": [
    "from sklearn.model_selection import KFold\n",
    "kf = KFold(n_splits = 3)"
   ]
  },
  {
   "cell_type": "markdown",
   "id": "30e4b027",
   "metadata": {},
   "source": [
    "# KFold is used to create X_train,x_test,y_train, y_test and apply on algorithm for prediction"
   ]
  },
  {
   "cell_type": "code",
   "execution_count": 95,
   "id": "b338a314",
   "metadata": {},
   "outputs": [
    {
     "name": "stdout",
     "output_type": "stream",
     "text": [
      "[[ 0.  0.  5. ...  0.  0.  0.]\n",
      " [ 0.  0.  0. ... 10.  0.  0.]\n",
      " [ 0.  0.  0. ... 16.  9.  0.]\n",
      " ...\n",
      " [ 0.  0.  5. ... 16. 11.  2.]\n",
      " [ 0.  0.  6. ...  0.  0.  0.]\n",
      " [ 0.  0.  0. ... 12.  0.  0.]]\n",
      "[[ 0.  0.  1. ... 16. 16.  8.]\n",
      " [ 0.  0. 10. ... 16. 16.  9.]\n",
      " [ 0.  0.  6. ... 16. 15.  3.]\n",
      " ...\n",
      " [ 0.  1. 13. ...  0.  0.  0.]\n",
      " [ 0.  1.  7. ... 12.  2.  0.]\n",
      " [ 0.  0. 13. ...  0.  0.  0.]]\n",
      "[[ 0.  0.  0. ...  9.  0.  0.]\n",
      " [ 0.  0.  7. ...  8.  0.  0.]\n",
      " [ 0.  0. 12. ...  0.  0.  0.]\n",
      " ...\n",
      " [ 0.  0.  1. ...  6.  0.  0.]\n",
      " [ 0.  0.  2. ... 12.  0.  0.]\n",
      " [ 0.  0. 10. ... 12.  1.  0.]]\n"
     ]
    }
   ],
   "source": [
    "from sklearn.model_selection import train_test_split\n",
    "for train_index , test_index in kf.split(digitdata.data):\n",
    "    x_train,x_test, y_train, y_test = digitdata.data[train_index],digitdata.data[test_index], \\\n",
    "                                      digitdata.target[train_index],digitdata.target[test_index]\n",
    "    #     print(train_index,test_index)\n",
    "    print(x_test)"
   ]
  },
  {
   "cell_type": "markdown",
   "id": "8c6c550e",
   "metadata": {},
   "source": [
    "the below function can be call by an in_built function called cross_val_score"
   ]
  },
  {
   "cell_type": "code",
   "execution_count": 85,
   "id": "0efe488d",
   "metadata": {},
   "outputs": [],
   "source": [
    "def get_score (model,x_train,x_test,y_train,y_test):\n",
    "    model.fit(x_train,y_train)\n",
    "    return model.score(x_test,y_test)"
   ]
  },
  {
   "cell_type": "code",
   "execution_count": 89,
   "id": "e540b6ef",
   "metadata": {},
   "outputs": [],
   "source": [
    "from sklearn.model_selection import cross_val_score  # cross_val_score use to find prediction score rate\n",
    "# import algorithm for model training \n",
    "from sklearn.linear_model import LogisticRegression\n",
    "from sklearn.ensemble import RandomForestClassifier\n",
    "from sklearn.svm import SVC"
   ]
  },
  {
   "cell_type": "code",
   "execution_count": 86,
   "id": "7b313fad",
   "metadata": {},
   "outputs": [
    {
     "name": "stdout",
     "output_type": "stream",
     "text": [
      "0.9298831385642737\n"
     ]
    }
   ],
   "source": [
    "print((get_score(RandomForestClassifier(),x_train,x_test, y_train, y_test)))"
   ]
  },
  {
   "cell_type": "code",
   "execution_count": 88,
   "id": "b47dc1ff",
   "metadata": {},
   "outputs": [
    {
     "name": "stdout",
     "output_type": "stream",
     "text": [
      "Random Forest Score:  [0.93055556 0.90277778 0.95543175 0.95821727 0.92200557]\n",
      "Support Vector Score: [0.96111111 0.94444444 0.98328691 0.98885794 0.93871866]\n"
     ]
    }
   ],
   "source": [
    "# print((cross_val_score(LogisticRegression(),digitdata.data,digitdata.target)))\n",
    "print(\"Random Forest Score: \",cross_val_score(RandomForestClassifier(n_estimators = 40),digitdata.data,digitdata.target))\n",
    "print(\"Support Vector Score:\", cross_val_score(SVC(),digitdata.data,digitdata.target))"
   ]
  },
  {
   "cell_type": "markdown",
   "id": "ec7ab703",
   "metadata": {},
   "source": [
    "# Final result\n",
    "Support vector is better for this data prediction\n"
   ]
  }
 ],
 "metadata": {
  "kernelspec": {
   "display_name": "Python 3 (ipykernel)",
   "language": "python",
   "name": "python3"
  },
  "language_info": {
   "codemirror_mode": {
    "name": "ipython",
    "version": 3
   },
   "file_extension": ".py",
   "mimetype": "text/x-python",
   "name": "python",
   "nbconvert_exporter": "python",
   "pygments_lexer": "ipython3",
   "version": "3.10.9"
  }
 },
 "nbformat": 4,
 "nbformat_minor": 5
}
