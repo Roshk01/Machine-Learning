{
 "cells": [
  {
   "cell_type": "code",
   "execution_count": 2,
   "id": "2f5a4b43",
   "metadata": {},
   "outputs": [],
   "source": [
    "import gym\n",
    "import numpy as np\n",
    "import random\n",
    "import time\n"
   ]
  },
  {
   "cell_type": "code",
   "execution_count": 3,
   "id": "a98aed19",
   "metadata": {},
   "outputs": [],
   "source": [
    "env = gym.make(\"FrozenLake-v1\")"
   ]
  },
  {
   "cell_type": "code",
   "execution_count": 27,
   "id": "e0cf31ce",
   "metadata": {},
   "outputs": [],
   "source": [
    "action_space_size = env.action_space.n\n",
    "state_space_size = env.observation_space.n\n",
    "q_table = np.zeros((state_space_size, action_space_size))"
   ]
  },
  {
   "cell_type": "code",
   "execution_count": 29,
   "id": "7d478f97",
   "metadata": {},
   "outputs": [
    {
     "name": "stdout",
     "output_type": "stream",
     "text": [
      "{(0, 0): 0, (0, 1): 0, (0, 2): 0, (0, 3): 0, (1, 0): 0, (1, 1): 0, (1, 2): 0, (1, 3): 0, (2, 0): 0, (2, 1): 0, (2, 2): 0, (2, 3): 0, (3, 0): 0, (3, 1): 0, (3, 2): 0, (3, 3): 0, (4, 0): 0, (4, 1): 0, (4, 2): 0, (4, 3): 0, (5, 0): 0, (5, 1): 0, (5, 2): 0, (5, 3): 0, (6, 0): 0, (6, 1): 0, (6, 2): 0, (6, 3): 0, (7, 0): 0, (7, 1): 0, (7, 2): 0, (7, 3): 0, (8, 0): 0, (8, 1): 0, (8, 2): 0, (8, 3): 0, (9, 0): 0, (9, 1): 0, (9, 2): 0, (9, 3): 0, (10, 0): 0, (10, 1): 0, (10, 2): 0, (10, 3): 0, (11, 0): 0, (11, 1): 0, (11, 2): 0, (11, 3): 0, (12, 0): 0, (12, 1): 0, (12, 2): 0, (12, 3): 0, (13, 0): 0, (13, 1): 0, (13, 2): 0, (13, 3): 0, (14, 0): 0, (14, 1): 0, (14, 2): 0, (14, 3): 0, (15, 0): 0, (15, 1): 0, (15, 2): 0, (15, 3): 0}\n"
     ]
    }
   ],
   "source": [
    "print(q_table)"
   ]
  },
  {
   "cell_type": "code",
   "execution_count": 25,
   "id": "84aee382",
   "metadata": {},
   "outputs": [],
   "source": [
    "max_episode = 10000\n",
    "max_step_per_episode = 100\n",
    "\n",
    "learning_rate = 0.1\n",
    "discount_rate = 0.99\n",
    "\n",
    "exploration_rate = 1\n",
    "min_exploration_rate = 0.01\n",
    "max_exploration_rate = 1\n",
    "decay_rate = 0.01"
   ]
  },
  {
   "cell_type": "code",
   "execution_count": 30,
   "id": "9393826b",
   "metadata": {},
   "outputs": [
    {
     "ename": "TypeError",
     "evalue": "unhashable type: 'dict'",
     "output_type": "error",
     "traceback": [
      "\u001b[1;31m---------------------------------------------------------------------------\u001b[0m",
      "\u001b[1;31mTypeError\u001b[0m                                 Traceback (most recent call last)",
      "Cell \u001b[1;32mIn[30], line 17\u001b[0m\n\u001b[0;32m     14\u001b[0m newstate, reward, done, truncated, info \u001b[38;5;241m=\u001b[39m env\u001b[38;5;241m.\u001b[39mstep(action)\n\u001b[0;32m     16\u001b[0m \u001b[38;5;66;03m# Update the Q-table\u001b[39;00m\n\u001b[1;32m---> 17\u001b[0m q_table[(state, action)] \u001b[38;5;241m=\u001b[39m (\u001b[38;5;241m1\u001b[39m \u001b[38;5;241m-\u001b[39m learning_rate) \u001b[38;5;241m*\u001b[39m \u001b[43mq_table\u001b[49m\u001b[43m[\u001b[49m\u001b[43m(\u001b[49m\u001b[43mstate\u001b[49m\u001b[43m,\u001b[49m\u001b[43m \u001b[49m\u001b[43maction\u001b[49m\u001b[43m)\u001b[49m\u001b[43m]\u001b[49m \u001b[38;5;241m+\u001b[39m learning_rate \u001b[38;5;241m*\u001b[39m (reward \u001b[38;5;241m+\u001b[39m discount_rate \u001b[38;5;241m*\u001b[39m \u001b[38;5;28mmax\u001b[39m(q_table[(newstate, a)] \u001b[38;5;28;01mfor\u001b[39;00m a \u001b[38;5;129;01min\u001b[39;00m \u001b[38;5;28mrange\u001b[39m(action_space_size)))\n\u001b[0;32m     18\u001b[0m state \u001b[38;5;241m=\u001b[39m newstate\n\u001b[0;32m     19\u001b[0m reward_current_episode \u001b[38;5;241m+\u001b[39m\u001b[38;5;241m=\u001b[39m reward\n",
      "\u001b[1;31mTypeError\u001b[0m: unhashable type: 'dict'"
     ]
    }
   ],
   "source": [
    "reward_list = []\n",
    "\n",
    "# Main loop\n",
    "for episode in range(max_episode):\n",
    "    state = env.reset()\n",
    "    done = False\n",
    "    reward_current_episode = 0\n",
    "\n",
    "    for step in range(max_step_per_episode):\n",
    "        # Exploration-exploitation trade-off\n",
    "        exploration_rate_threshold = random.uniform(0, 1)\n",
    "        if exploration_rate_threshold > exploration_rate:\n",
    "            action = np.argmax(q_table[state, :])\n",
    "        else:\n",
    "            action = env.action_space.sample()\n",
    "\n",
    "        newstate, reward, done, truncated, info = env.step(action)\n",
    "\n",
    "        newstate = int(newstate)\n",
    "\n",
    "        # Update the Q-table\n",
    "        q_table[state, action] = q_table[state, action] * (1 - learning_rate) + learning_rate * (reward + discount_rate * np.max(q_table[newstate, :]))\n",
    "        state = newstate\n",
    "        reward_current_episode += reward\n",
    "\n",
    "        if done:\n",
    "            break\n",
    "\n",
    "    # Update the exploration rate\n",
    "    exploration_rate = min_exploration_rate + (max_exploration_rate - min_exploration_rate) * np.exp(-decay_rate * episode)\n",
    "\n",
    "    # Add the episode reward to the list\n",
    "    reward_list.append(reward_current_episode)\n",
    "\n",
    "# Calculate the average reward per thousand episodes\n",
    "reward_per_thousand_episode = np.split(np.array(reward_list), max_episode // 1000)\n",
    "count = 1000\n",
    "print(\"********Average reward per thousand episodes********\\n\")\n",
    "for r in reward_per_thousand_episode:\n",
    "    print(count, \": \", str(sum(r) / 1000))\n",
    "    count += 1000"
   ]
  },
  {
   "cell_type": "code",
   "execution_count": null,
   "id": "db5d0b61",
   "metadata": {},
   "outputs": [],
   "source": []
  }
 ],
 "metadata": {
  "kernelspec": {
   "display_name": "Python 3 (ipykernel)",
   "language": "python",
   "name": "python3"
  },
  "language_info": {
   "codemirror_mode": {
    "name": "ipython",
    "version": 3
   },
   "file_extension": ".py",
   "mimetype": "text/x-python",
   "name": "python",
   "nbconvert_exporter": "python",
   "pygments_lexer": "ipython3",
   "version": "3.10.9"
  }
 },
 "nbformat": 4,
 "nbformat_minor": 5
}
